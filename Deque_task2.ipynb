{
  "nbformat": 4,
  "nbformat_minor": 0,
  "metadata": {
    "colab": {
      "provenance": [],
      "gpuType": "T4",
      "authorship_tag": "ABX9TyM0Ia7can5FiNfP9/RqidYp",
      "include_colab_link": true
    },
    "kernelspec": {
      "name": "python3",
      "display_name": "Python 3"
    },
    "language_info": {
      "name": "python"
    },
    "accelerator": "GPU"
  },
  "cells": [
    {
      "cell_type": "markdown",
      "metadata": {
        "id": "view-in-github",
        "colab_type": "text"
      },
      "source": [
        "<a href=\"https://colab.research.google.com/github/JavZon/Course_WM/blob/main/Deque_task2.ipynb\" target=\"_parent\"><img src=\"https://colab.research.google.com/assets/colab-badge.svg\" alt=\"Open In Colab\"/></a>"
      ]
    },
    {
      "cell_type": "markdown",
      "source": [
        "Deque tasks"
      ],
      "metadata": {
        "id": "49mkvCLqYHS5"
      }
    },
    {
      "cell_type": "code",
      "execution_count": 1,
      "metadata": {
        "colab": {
          "base_uri": "https://localhost:8080/"
        },
        "id": "VzmOpNOETYTG",
        "outputId": "62281482-609a-4b78-9713-5897f115824a"
      },
      "outputs": [
        {
          "output_type": "stream",
          "name": "stdout",
          "text": [
            "deque([20, 13, 38, 42, 91, 68, 77, 5, 21, 80, 16])\n"
          ]
        }
      ],
      "source": [
        "# Bir quedan juft va toq sonlarni alohida quelarga ajrating\n",
        "from collections import deque # importing deque\n",
        "\n",
        "# creating new deque\n",
        "my_deque=deque()\n",
        "\n",
        "len(my_deque) # checking lenth of deque\n",
        "\n",
        "my_deque.extend([20,13,38,42,91,68,77,5,21,80,16])\n",
        "print(my_deque)"
      ]
    },
    {
      "cell_type": "code",
      "source": [
        "# Assigning new deques and filling them with odd or even elements\n",
        "odd_deque=deque()\n",
        "even_deque=deque()\n",
        "\n",
        "for value in my_deque:\n",
        "  if value % 2 == 0:\n",
        "    even_deque.append(value)\n",
        "  else:\n",
        "    odd_deque.append(value)\n",
        "\n",
        "print(odd_deque)\n",
        "print(even_deque)"
      ],
      "metadata": {
        "colab": {
          "base_uri": "https://localhost:8080/"
        },
        "id": "vkKiEs3DZPaY",
        "outputId": "c81ac6f4-c3d6-43bf-e506-67581423b276"
      },
      "execution_count": 2,
      "outputs": [
        {
          "output_type": "stream",
          "name": "stdout",
          "text": [
            "deque([13, 91, 77, 5, 21])\n",
            "deque([20, 38, 42, 68, 80, 16])\n"
          ]
        }
      ]
    },
    {
      "cell_type": "code",
      "source": [
        "# Extract value that are smaller than 22 and move them to a new deque\n",
        "\n",
        "new_deque=deque()\n",
        "for value in my_deque:\n",
        "  if value<22:\n",
        "    new_deque.append(value)\n",
        "print(new_deque)"
      ],
      "metadata": {
        "colab": {
          "base_uri": "https://localhost:8080/"
        },
        "id": "28AmvWDETcsP",
        "outputId": "e17c61a9-ed50-4a31-c749-9e57383f3667"
      },
      "execution_count": 3,
      "outputs": [
        {
          "output_type": "stream",
          "name": "stdout",
          "text": [
            "deque([20, 13, 5, 21, 16])\n"
          ]
        }
      ]
    },
    {
      "cell_type": "code",
      "source": [
        "# Write a program that adds values to deque from the middle\n",
        "print(f'My deque before adding element to the middle:',my_deque)\n",
        "print(len(my_deque))\n",
        "\n",
        "middle_index=len(my_deque)//2\n",
        "temp_list=list(my_deque)\n",
        "\n",
        "def add_value_middle(x,value):\n",
        "  temp_list=list(x)\n",
        "  temp_list.insert(middle_index, value)\n",
        "  my_deque=deque(temp_list)\n",
        "  return my_deque\n",
        "\n",
        "mid_val=add_value_middle(my_deque, 5700)\n",
        "print(f'After adding element',mid_val)"
      ],
      "metadata": {
        "colab": {
          "base_uri": "https://localhost:8080/"
        },
        "id": "tQ8yJdiYTcvM",
        "outputId": "86ecf2ca-33db-4614-d28c-f18dfca4eaab"
      },
      "execution_count": 8,
      "outputs": [
        {
          "output_type": "stream",
          "name": "stdout",
          "text": [
            "My deque before adding element to the middle: deque([20, 13, 38, 42, 91, 68, 77, 5, 21, 80, 16])\n",
            "11\n",
            "After adding element deque([20, 13, 38, 42, 91, 5700, 68, 77, 5, 21, 80, 16])\n"
          ]
        }
      ]
    },
    {
      "cell_type": "code",
      "source": [],
      "metadata": {
        "id": "lzE0rXQ4Tc1d"
      },
      "execution_count": null,
      "outputs": []
    },
    {
      "cell_type": "code",
      "source": [],
      "metadata": {
        "id": "JIRc4ua6Tc4I"
      },
      "execution_count": null,
      "outputs": []
    }
  ]
}