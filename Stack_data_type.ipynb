{
  "nbformat": 4,
  "nbformat_minor": 0,
  "metadata": {
    "colab": {
      "provenance": [],
      "gpuType": "T4",
      "authorship_tag": "ABX9TyOCYEAD03MiEOx9/AzRvNB2",
      "include_colab_link": true
    },
    "kernelspec": {
      "name": "python3",
      "display_name": "Python 3"
    },
    "language_info": {
      "name": "python"
    },
    "accelerator": "GPU"
  },
  "cells": [
    {
      "cell_type": "markdown",
      "metadata": {
        "id": "view-in-github",
        "colab_type": "text"
      },
      "source": [
        "<a href=\"https://colab.research.google.com/github/JavZon/Course_WM/blob/main/Stack_data_type.ipynb\" target=\"_parent\"><img src=\"https://colab.research.google.com/assets/colab-badge.svg\" alt=\"Open In Colab\"/></a>"
      ]
    },
    {
      "cell_type": "code",
      "execution_count": 1,
      "metadata": {
        "id": "ZehT3UuRBJih"
      },
      "outputs": [],
      "source": [
        "import pandas as pd\n",
        "import numpy as np"
      ]
    },
    {
      "cell_type": "markdown",
      "source": [
        "**Create Stack**"
      ],
      "metadata": {
        "id": "ONyjfDdcC5Rg"
      }
    },
    {
      "cell_type": "code",
      "source": [
        "stack=[]"
      ],
      "metadata": {
        "id": "-wSVmTPQBLuE"
      },
      "execution_count": 14,
      "outputs": []
    },
    {
      "cell_type": "code",
      "source": [
        "stack"
      ],
      "metadata": {
        "colab": {
          "base_uri": "https://localhost:8080/"
        },
        "id": "ZjV2TgymBLrJ",
        "outputId": "d1f70bfd-b077-4644-fa9e-d2869d436d22"
      },
      "execution_count": 15,
      "outputs": [
        {
          "output_type": "execute_result",
          "data": {
            "text/plain": [
              "[]"
            ]
          },
          "metadata": {},
          "execution_count": 15
        }
      ]
    },
    {
      "cell_type": "markdown",
      "source": [
        "Adding elements to stack"
      ],
      "metadata": {
        "id": "UDe49H4DDF45"
      }
    },
    {
      "cell_type": "code",
      "source": [
        "stack.append(456)\n",
        "stack.append(10)\n",
        "stack.append(87)\n",
        "stack.append(3)\n",
        "stack.append(-20)\n",
        "stack.append(160895)"
      ],
      "metadata": {
        "id": "GqXLWx9yBLoX"
      },
      "execution_count": 16,
      "outputs": []
    },
    {
      "cell_type": "code",
      "source": [
        "stack"
      ],
      "metadata": {
        "colab": {
          "base_uri": "https://localhost:8080/"
        },
        "id": "Fh_La0FYDDq6",
        "outputId": "5b1510e0-3cc3-49c1-cec8-f416357afb50"
      },
      "execution_count": 17,
      "outputs": [
        {
          "output_type": "execute_result",
          "data": {
            "text/plain": [
              "[456, 10, 87, 3, -20, 160895]"
            ]
          },
          "metadata": {},
          "execution_count": 17
        }
      ]
    },
    {
      "cell_type": "markdown",
      "source": [
        "Finding top element in stack"
      ],
      "metadata": {
        "id": "Sot-4e6WDze5"
      }
    },
    {
      "cell_type": "code",
      "source": [
        "top_element=stack[-1]\n",
        "top_element\n",
        "print(top_element)\n",
        "\n",
        "# top element 2\n",
        "top_element2=stack[-2]\n",
        "print(top_element2)"
      ],
      "metadata": {
        "colab": {
          "base_uri": "https://localhost:8080/"
        },
        "id": "K4NbAGC3DFdw",
        "outputId": "7606a759-5e24-4931-b75e-67e99cedc2d9"
      },
      "execution_count": 18,
      "outputs": [
        {
          "output_type": "stream",
          "name": "stdout",
          "text": [
            "160895\n",
            "-20\n"
          ]
        }
      ]
    },
    {
      "cell_type": "markdown",
      "source": [
        "Deleting the top element from stack"
      ],
      "metadata": {
        "id": "HrA0ccmcD2od"
      }
    },
    {
      "cell_type": "code",
      "source": [
        "stack"
      ],
      "metadata": {
        "colab": {
          "base_uri": "https://localhost:8080/"
        },
        "id": "7Vq8tWyJECkH",
        "outputId": "955a3ec9-f7d1-4327-ce77-285d70acb931"
      },
      "execution_count": 19,
      "outputs": [
        {
          "output_type": "execute_result",
          "data": {
            "text/plain": [
              "[456, 10, 87, 3, -20, 160895]"
            ]
          },
          "metadata": {},
          "execution_count": 19
        }
      ]
    },
    {
      "cell_type": "code",
      "source": [
        "stack.pop() # removed the top element from stack which is 160895\n",
        "stack"
      ],
      "metadata": {
        "colab": {
          "base_uri": "https://localhost:8080/"
        },
        "id": "9w9Ct8tbD6oM",
        "outputId": "00b7981d-e0b3-4cff-a85d-df89692a8b7d"
      },
      "execution_count": 20,
      "outputs": [
        {
          "output_type": "execute_result",
          "data": {
            "text/plain": [
              "[456, 10, 87, 3, -20]"
            ]
          },
          "metadata": {},
          "execution_count": 20
        }
      ]
    },
    {
      "cell_type": "code",
      "source": [
        "stack"
      ],
      "metadata": {
        "colab": {
          "base_uri": "https://localhost:8080/"
        },
        "id": "9wRLcA5dE8p3",
        "outputId": "f858ebd4-ee2f-4d3f-c5be-936d5dfdb1a5"
      },
      "execution_count": 21,
      "outputs": [
        {
          "output_type": "execute_result",
          "data": {
            "text/plain": [
              "[456, 10, 87, 3, -20]"
            ]
          },
          "metadata": {},
          "execution_count": 21
        }
      ]
    },
    {
      "cell_type": "code",
      "source": [
        "stack.pop(4)"
      ],
      "metadata": {
        "colab": {
          "base_uri": "https://localhost:8080/"
        },
        "id": "MWY0OxsTE8m-",
        "outputId": "879955bb-1fef-41f9-fa14-ce6137fa544e"
      },
      "execution_count": 22,
      "outputs": [
        {
          "output_type": "execute_result",
          "data": {
            "text/plain": [
              "-20"
            ]
          },
          "metadata": {},
          "execution_count": 22
        }
      ]
    },
    {
      "cell_type": "code",
      "source": [
        "stack"
      ],
      "metadata": {
        "colab": {
          "base_uri": "https://localhost:8080/"
        },
        "id": "Dk61K2CGFFCC",
        "outputId": "8ba99513-6a2b-4f9d-b415-4745f061050e"
      },
      "execution_count": 23,
      "outputs": [
        {
          "output_type": "execute_result",
          "data": {
            "text/plain": [
              "[456, 10, 87, 3]"
            ]
          },
          "metadata": {},
          "execution_count": 23
        }
      ]
    },
    {
      "cell_type": "code",
      "source": [
        "stack.pop(1)"
      ],
      "metadata": {
        "colab": {
          "base_uri": "https://localhost:8080/"
        },
        "id": "ihUbv_6wFGt3",
        "outputId": "5815a82f-fc61-4fe1-be03-c5e1a0c7ff85"
      },
      "execution_count": 24,
      "outputs": [
        {
          "output_type": "execute_result",
          "data": {
            "text/plain": [
              "10"
            ]
          },
          "metadata": {},
          "execution_count": 24
        }
      ]
    },
    {
      "cell_type": "markdown",
      "source": [
        "Stack yarating va uni tekshiring agar stack bo'sh bo'lsa bosh yoki aksincha bolsa to'la degan so'zni ekranga chiqaring\n",
        "\n",
        "Bitta misolda list,stack va arrayni tekshiring\n",
        "\n",
        "Stakdan faqat yuqori elementni (top element) oling va uni qaytaring.\n",
        "\n",
        "Stackdagi elementlarni o'zgartirmasdan teskari tartibda qaytarish. Ya'ni, stackning birinchi elementi oxirgi bo'lishi kerak va oxirgi elementi birinchi bo'lishi kerak."
      ],
      "metadata": {
        "id": "chqZcFJDEu1A"
      }
    },
    {
      "cell_type": "code",
      "source": [
        "# Stack yarating va uni tekshiring agar stack bo'sh bo'lsa bosh yoki aksincha bolsa to'la degan so'zni ekranga chiqaring\n",
        "\n",
        "stack=[]\n",
        "message=lambda x: 'Stack is empty' if len(x)==0  else 'Stack is not empty'\n",
        "print(message(stack))"
      ],
      "metadata": {
        "colab": {
          "base_uri": "https://localhost:8080/"
        },
        "id": "rW0kO8yKFLrZ",
        "outputId": "8a621f28-3917-41b5-af17-ee5c6f552370"
      },
      "execution_count": 27,
      "outputs": [
        {
          "output_type": "stream",
          "name": "stdout",
          "text": [
            "Stack is empty\n"
          ]
        }
      ]
    },
    {
      "cell_type": "code",
      "source": [
        "a=[2,3,4]\n",
        "stack=[5,6,7]\n",
        "np.array([10,11,12])"
      ],
      "metadata": {
        "colab": {
          "base_uri": "https://localhost:8080/"
        },
        "id": "nVYJNot6FWXn",
        "outputId": "d1eb70e2-cc0b-4809-8f0b-0d1fbcce70d9"
      },
      "execution_count": 28,
      "outputs": [
        {
          "output_type": "execute_result",
          "data": {
            "text/plain": [
              "array([10, 11, 12])"
            ]
          },
          "metadata": {},
          "execution_count": 28
        }
      ]
    },
    {
      "cell_type": "code",
      "source": [
        "stack"
      ],
      "metadata": {
        "colab": {
          "base_uri": "https://localhost:8080/"
        },
        "id": "fETemElRFWNP",
        "outputId": "be5e2aed-f602-46ad-d565-fc99aadc92f6"
      },
      "execution_count": 29,
      "outputs": [
        {
          "output_type": "execute_result",
          "data": {
            "text/plain": [
              "[5, 6, 7]"
            ]
          },
          "metadata": {},
          "execution_count": 29
        }
      ]
    },
    {
      "cell_type": "code",
      "source": [
        "stack.pop()"
      ],
      "metadata": {
        "colab": {
          "base_uri": "https://localhost:8080/"
        },
        "id": "s3LqrDT8G20X",
        "outputId": "b778992e-2823-46d6-83c6-fca5ebe033ff"
      },
      "execution_count": 30,
      "outputs": [
        {
          "output_type": "execute_result",
          "data": {
            "text/plain": [
              "7"
            ]
          },
          "metadata": {},
          "execution_count": 30
        }
      ]
    },
    {
      "cell_type": "code",
      "source": [
        "stack.append(7)"
      ],
      "metadata": {
        "id": "NcXICDFOHeGa"
      },
      "execution_count": 31,
      "outputs": []
    },
    {
      "cell_type": "code",
      "source": [
        "stack"
      ],
      "metadata": {
        "colab": {
          "base_uri": "https://localhost:8080/"
        },
        "id": "ZINDKJueHhRI",
        "outputId": "a2b9e80e-6bc3-4563-b4e0-c66715d0ce58"
      },
      "execution_count": 32,
      "outputs": [
        {
          "output_type": "execute_result",
          "data": {
            "text/plain": [
              "[5, 6, 7]"
            ]
          },
          "metadata": {},
          "execution_count": 32
        }
      ]
    },
    {
      "cell_type": "code",
      "source": [
        "#Stackdagi elementlarni o'zgartirmasdan teskari tartibda qaytarish.\n",
        "#Ya'ni, stackning birinchi elementi oxirgi bo'lishi kerak va oxirgi elementi birinchi bo'lishi kerak.\n",
        "\n",
        "stack.sort(reverse=True)\n"
      ],
      "metadata": {
        "id": "ZyCoWIUkHi81"
      },
      "execution_count": 34,
      "outputs": []
    },
    {
      "cell_type": "code",
      "source": [
        "stack=[23,56,11,40,75]"
      ],
      "metadata": {
        "id": "TcUJYqecHi58"
      },
      "execution_count": 42,
      "outputs": []
    },
    {
      "cell_type": "code",
      "source": [
        "stack"
      ],
      "metadata": {
        "colab": {
          "base_uri": "https://localhost:8080/"
        },
        "id": "O3YKpDAtIe-F",
        "outputId": "2d2fd3e6-44a7-4419-9211-757252c9a893"
      },
      "execution_count": 43,
      "outputs": [
        {
          "output_type": "execute_result",
          "data": {
            "text/plain": [
              "[23, 56, 11, 40, 75]"
            ]
          },
          "metadata": {},
          "execution_count": 43
        }
      ]
    },
    {
      "cell_type": "code",
      "source": [
        "new_stack=stack[::-1]\n",
        "new_stack"
      ],
      "metadata": {
        "colab": {
          "base_uri": "https://localhost:8080/"
        },
        "id": "6sVs1JTQKDis",
        "outputId": "1a3ddd84-c6ad-4655-cd7e-f5097b47e9b8"
      },
      "execution_count": 44,
      "outputs": [
        {
          "output_type": "execute_result",
          "data": {
            "text/plain": [
              "[75, 40, 11, 56, 23]"
            ]
          },
          "metadata": {},
          "execution_count": 44
        }
      ]
    }
  ]
}