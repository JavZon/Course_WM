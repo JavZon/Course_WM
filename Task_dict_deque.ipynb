{
  "nbformat": 4,
  "nbformat_minor": 0,
  "metadata": {
    "colab": {
      "provenance": [],
      "gpuType": "T4",
      "authorship_tag": "ABX9TyOSXriiRgWqLEMLOPrcAyQy",
      "include_colab_link": true
    },
    "kernelspec": {
      "name": "python3",
      "display_name": "Python 3"
    },
    "language_info": {
      "name": "python"
    },
    "accelerator": "GPU"
  },
  "cells": [
    {
      "cell_type": "markdown",
      "metadata": {
        "id": "view-in-github",
        "colab_type": "text"
      },
      "source": [
        "<a href=\"https://colab.research.google.com/github/JavZon/Course_WM/blob/main/Task_dict_deque.ipynb\" target=\"_parent\"><img src=\"https://colab.research.google.com/assets/colab-badge.svg\" alt=\"Open In Colab\"/></a>"
      ]
    },
    {
      "cell_type": "markdown",
      "source": [
        "Dictionary"
      ],
      "metadata": {
        "id": "bLtU6jnKkRB0"
      }
    },
    {
      "cell_type": "code",
      "execution_count": 1,
      "metadata": {
        "colab": {
          "base_uri": "https://localhost:8080/"
        },
        "id": "BILHmxfnkPGi",
        "outputId": "aab08956-47d6-4688-f18f-362c4f8252f2"
      },
      "outputs": [
        {
          "output_type": "stream",
          "name": "stdout",
          "text": [
            "1\n",
            "3\n"
          ]
        }
      ],
      "source": [
        "colors={'Black':1,\n",
        "        'White':2,\n",
        "        'Blue':3}\n",
        "\n",
        "# getting values using dictionary [] indexing\n",
        "print(colors['Black'])\n",
        "print(colors['Blue'])"
      ]
    },
    {
      "cell_type": "markdown",
      "source": [
        "If a key does not exist Python raises a KeyError"
      ],
      "metadata": {
        "id": "cltsZLe6ksyE"
      }
    },
    {
      "cell_type": "code",
      "source": [
        "print(colors['Green'])"
      ],
      "metadata": {
        "colab": {
          "base_uri": "https://localhost:8080/",
          "height": 141
        },
        "id": "D10rIJsWkQKU",
        "outputId": "f335ad85-fe7d-4870-b898-7a79a4064b9d"
      },
      "execution_count": 2,
      "outputs": [
        {
          "output_type": "error",
          "ename": "KeyError",
          "evalue": "'Green'",
          "traceback": [
            "\u001b[0;31m---------------------------------------------------------------------------\u001b[0m",
            "\u001b[0;31mKeyError\u001b[0m                                  Traceback (most recent call last)",
            "\u001b[0;32m<ipython-input-2-24598ee09138>\u001b[0m in \u001b[0;36m<cell line: 1>\u001b[0;34m()\u001b[0m\n\u001b[0;32m----> 1\u001b[0;31m \u001b[0mprint\u001b[0m\u001b[0;34m(\u001b[0m\u001b[0mcolors\u001b[0m\u001b[0;34m[\u001b[0m\u001b[0;34m'Green'\u001b[0m\u001b[0;34m]\u001b[0m\u001b[0;34m)\u001b[0m\u001b[0;34m\u001b[0m\u001b[0;34m\u001b[0m\u001b[0m\n\u001b[0m",
            "\u001b[0;31mKeyError\u001b[0m: 'Green'"
          ]
        }
      ]
    },
    {
      "cell_type": "markdown",
      "source": [
        "In order to prevent this error we should use get() method of dictionary"
      ],
      "metadata": {
        "id": "6Bp8BTKlk7xu"
      }
    },
    {
      "cell_type": "code",
      "source": [
        "colors={'Black':1,\n",
        "        'White':2,\n",
        "        'Blue':3}\n",
        "# get(key, value_to_show) method\n",
        "# if value is not given, None is returned\n",
        "print(colors.get('Green', 'There is no key Green')) # given value is returned\n",
        "print(colors.get('Yellow', 10)) # 10 is returned\n",
        "print(colors.get('Silver')) # None is returned"
      ],
      "metadata": {
        "colab": {
          "base_uri": "https://localhost:8080/"
        },
        "id": "2RsW5XzokQHD",
        "outputId": "5c7235a2-767d-4cf3-eae4-62c44707a732"
      },
      "execution_count": 3,
      "outputs": [
        {
          "output_type": "stream",
          "name": "stdout",
          "text": [
            "There is no key Green\n",
            "10\n",
            "None\n"
          ]
        }
      ]
    },
    {
      "cell_type": "markdown",
      "source": [
        "**Queue** - data structure\n"
      ],
      "metadata": {
        "id": "vQj47r7rpOqk"
      }
    },
    {
      "cell_type": "code",
      "source": [
        "from collections import deque"
      ],
      "metadata": {
        "id": "O1EdQVqfmhKB"
      },
      "execution_count": 4,
      "outputs": []
    },
    {
      "cell_type": "markdown",
      "source": [
        "creating deque"
      ],
      "metadata": {
        "id": "_ILQ8dXTsM3T"
      }
    },
    {
      "cell_type": "code",
      "source": [
        "my_deque=deque()\n",
        "print(type(my_deque))\n",
        "print(my_deque)"
      ],
      "metadata": {
        "colab": {
          "base_uri": "https://localhost:8080/"
        },
        "id": "WHjhGVnxmhGP",
        "outputId": "d9f35d91-cfbf-4191-a8d0-f3fbf98ecba3"
      },
      "execution_count": 5,
      "outputs": [
        {
          "output_type": "stream",
          "name": "stdout",
          "text": [
            "<class 'collections.deque'>\n",
            "deque([])\n"
          ]
        }
      ]
    },
    {
      "cell_type": "markdown",
      "source": [
        "Adding elements to queue"
      ],
      "metadata": {
        "id": "L8kf2MPutCcH"
      }
    },
    {
      "cell_type": "code",
      "source": [
        "# we can add values to the right(end) of deque by append() method\n",
        "my_deque.append(10)\n",
        "my_deque.append(20)\n",
        "my_deque.append(30)\n",
        "print(my_deque)"
      ],
      "metadata": {
        "colab": {
          "base_uri": "https://localhost:8080/"
        },
        "id": "REyqqSlErzz_",
        "outputId": "2ad9837e-ad30-46e2-f4c0-55faa256e73f"
      },
      "execution_count": 6,
      "outputs": [
        {
          "output_type": "stream",
          "name": "stdout",
          "text": [
            "deque([10, 20, 30])\n"
          ]
        }
      ]
    },
    {
      "cell_type": "markdown",
      "source": [
        "Adding element to the beginning(left) of the deque using **appendleft()**"
      ],
      "metadata": {
        "id": "WWcY-OmQuIir"
      }
    },
    {
      "cell_type": "code",
      "source": [
        "print(my_deque)\n",
        "my_deque.appendleft(5)\n",
        "print(f'After adding element to the beginning : ',my_deque)"
      ],
      "metadata": {
        "colab": {
          "base_uri": "https://localhost:8080/"
        },
        "id": "YARnEUqhsUyV",
        "outputId": "743c8915-d2eb-4595-bec5-51ba3fa7c333"
      },
      "execution_count": 7,
      "outputs": [
        {
          "output_type": "stream",
          "name": "stdout",
          "text": [
            "deque([10, 20, 30])\n",
            "After adding element to the beginning :  deque([5, 10, 20, 30])\n"
          ]
        }
      ]
    },
    {
      "cell_type": "markdown",
      "source": [
        "Removing elements from the end(right) of the deque using **pop()**"
      ],
      "metadata": {
        "id": "Hulga2GFvDvj"
      }
    },
    {
      "cell_type": "code",
      "source": [
        "print(my_deque)\n",
        "last_element=my_deque.pop()\n",
        "print(f'Last element :',last_element)\n",
        "print(f'Deque after removing the last element :',my_deque)"
      ],
      "metadata": {
        "colab": {
          "base_uri": "https://localhost:8080/"
        },
        "id": "1vNY9sjruQwq",
        "outputId": "f1a5776c-dcad-4b0b-cca7-204f754e3275"
      },
      "execution_count": 8,
      "outputs": [
        {
          "output_type": "stream",
          "name": "stdout",
          "text": [
            "deque([5, 10, 20, 30])\n",
            "Last element : 30\n",
            "Deque after removing the last element : deque([5, 10, 20])\n"
          ]
        }
      ]
    },
    {
      "cell_type": "markdown",
      "source": [
        "Removing elements from the beginning(left) of the deque using **popleft()**"
      ],
      "metadata": {
        "id": "LdYdwaYB3PuO"
      }
    },
    {
      "cell_type": "code",
      "source": [
        "print(my_deque)\n",
        "my_deque.popleft()\n",
        "print(f'After removing the left element:',my_deque)"
      ],
      "metadata": {
        "colab": {
          "base_uri": "https://localhost:8080/"
        },
        "id": "s-LkljCEuQt5",
        "outputId": "7c8269c3-27f0-4f3b-a388-4405b3de49c0"
      },
      "execution_count": 10,
      "outputs": [
        {
          "output_type": "stream",
          "name": "stdout",
          "text": [
            "deque([5, 10, 20])\n",
            "After removing the left element: deque([10, 20])\n"
          ]
        }
      ]
    },
    {
      "cell_type": "markdown",
      "source": [
        "Adding multiple elements to the end of deque using **extend()**"
      ],
      "metadata": {
        "id": "01zhPbqr4vY_"
      }
    },
    {
      "cell_type": "code",
      "source": [
        "print(my_deque)\n",
        "my_deque.extend([80,70,60])\n",
        "print(f'After adding 3 elements:',my_deque)"
      ],
      "metadata": {
        "colab": {
          "base_uri": "https://localhost:8080/"
        },
        "id": "YaT-ZlAK43lR",
        "outputId": "10a94ec8-4b38-45b2-fe2e-ee129677642f"
      },
      "execution_count": 11,
      "outputs": [
        {
          "output_type": "stream",
          "name": "stdout",
          "text": [
            "deque([10, 20])\n",
            "After adding 3 elements: deque([10, 20, 80, 70, 60])\n"
          ]
        }
      ]
    },
    {
      "cell_type": "markdown",
      "source": [
        "Adding multiple elements to the beginning(left) of the deque in a reverse order using **extendleft()**"
      ],
      "metadata": {
        "id": "lAR7QxwG5zmG"
      }
    },
    {
      "cell_type": "code",
      "source": [
        "print(my_deque)\n",
        "my_deque.extendleft([44,55,99])\n",
        "print(f'After adding 3 elements in reverse order:',my_deque)"
      ],
      "metadata": {
        "colab": {
          "base_uri": "https://localhost:8080/"
        },
        "id": "2NAwCPuL5zP8",
        "outputId": "afd28904-0825-40d7-e63d-92a6e7f54903"
      },
      "execution_count": 13,
      "outputs": [
        {
          "output_type": "stream",
          "name": "stdout",
          "text": [
            "deque([10, 20, 80, 70, 60])\n",
            "After adding 3 elements in reverse order: deque([99, 55, 44, 10, 20, 80, 70, 60])\n"
          ]
        }
      ]
    },
    {
      "cell_type": "code",
      "source": [
        "# Showing number of elements in deque\n",
        "len(my_deque)"
      ],
      "metadata": {
        "colab": {
          "base_uri": "https://localhost:8080/"
        },
        "id": "IFAPeUVk5oA4",
        "outputId": "807084b7-02a8-4379-8a2d-28d98dec7890"
      },
      "execution_count": 15,
      "outputs": [
        {
          "output_type": "execute_result",
          "data": {
            "text/plain": [
              "8"
            ]
          },
          "metadata": {},
          "execution_count": 15
        }
      ]
    },
    {
      "cell_type": "code",
      "source": [
        "# sum of deque\n",
        "sum(my_deque)"
      ],
      "metadata": {
        "colab": {
          "base_uri": "https://localhost:8080/"
        },
        "id": "YdTaPgvA7_VF",
        "outputId": "9d572c91-7b8b-4235-8cd4-681945af631a"
      },
      "execution_count": 17,
      "outputs": [
        {
          "output_type": "execute_result",
          "data": {
            "text/plain": [
              "438"
            ]
          },
          "metadata": {},
          "execution_count": 17
        }
      ]
    },
    {
      "cell_type": "code",
      "source": [
        "# max element of deque\n",
        "max(my_deque)"
      ],
      "metadata": {
        "colab": {
          "base_uri": "https://localhost:8080/"
        },
        "id": "mo1pXnH_8oxe",
        "outputId": "404bd54a-d8d3-4562-a34c-73806f05d670"
      },
      "execution_count": 20,
      "outputs": [
        {
          "output_type": "execute_result",
          "data": {
            "text/plain": [
              "99"
            ]
          },
          "metadata": {},
          "execution_count": 20
        }
      ]
    }
  ]
}